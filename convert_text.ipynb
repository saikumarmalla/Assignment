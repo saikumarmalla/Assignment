{
 "cells": [
  {
   "cell_type": "code",
   "execution_count": 1,
   "metadata": {},
   "outputs": [],
   "source": [
    "from convert_text_utils import *"
   ]
  },
  {
   "cell_type": "code",
   "execution_count": 3,
   "metadata": {},
   "outputs": [
    {
     "name": "stdout",
     "output_type": "stream",
     "text": [
      "My email id is sai 999 aa @ gmail. com , I have $1500.\n"
     ]
    }
   ],
   "source": [
    "text = \" My email id is sai triple nine double a at the rate gmail dot com comma I have fifteen hundred dollars full stop\";\n",
    "#text = readfile('sample')\n",
    "text = text.replace('.',\" . \");\n",
    "text = replace_special_symbols(text);\n",
    "text = replace_the_tuples1(text);\n",
    "text = replace_numerical_terms1(text);\n",
    "text = complete_postprocessing(text);\n",
    "text = dollar_processing(text)\n",
    "text = defintion_preprocessing(text)\n",
    "text = text.replace(' .',\".\");\n",
    "print(remove_whitespace(text))\n"
   ]
  },
  {
   "cell_type": "code",
   "execution_count": 3,
   "metadata": {},
   "outputs": [],
   "source": [
    " hello exclamation mark I am saikumar, I cant study twenty four by seven. my income is thirty five thousand rupees it is equal to five hundred dollars. my email is sai at the rate gmail dot com. My contact number is double nine eight nine two triple three zero four. I was so interested in double i t s and triple i t s"
   ]
  },
  {
   "cell_type": "code",
   "execution_count": null,
   "metadata": {},
   "outputs": [],
   "source": []
  }
 ],
 "metadata": {
  "kernelspec": {
   "display_name": "Python 3",
   "language": "python",
   "name": "python3"
  },
  "language_info": {
   "codemirror_mode": {
    "name": "ipython",
    "version": 3
   },
   "file_extension": ".py",
   "mimetype": "text/x-python",
   "name": "python",
   "nbconvert_exporter": "python",
   "pygments_lexer": "ipython3",
   "version": "3.7.4"
  }
 },
 "nbformat": 4,
 "nbformat_minor": 2
}
